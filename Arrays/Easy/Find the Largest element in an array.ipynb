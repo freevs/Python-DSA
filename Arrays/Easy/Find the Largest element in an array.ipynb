{
 "cells": [
  {
   "cell_type": "markdown",
   "id": "07157d24-ca6e-47ec-89e5-897ccc86c287",
   "metadata": {},
   "source": [
    "### Brute Force"
   ]
  },
  {
   "cell_type": "code",
   "execution_count": 3,
   "id": "3d3aec92-c5ba-4cd7-9d8b-15b532a3f85a",
   "metadata": {},
   "outputs": [
    {
     "name": "stdout",
     "output_type": "stream",
     "text": [
      "The Largest element in the array is: 5\n"
     ]
    }
   ],
   "source": [
    "def sortArr(arr):\n",
    "    arr.sort()\n",
    "    return arr[-1]\n",
    "    \n",
    "arr = [2, 5, 1, 3, 0]\n",
    "print(\"The Largest element in the array is:\", sortArr(arr))\n"
   ]
  },
  {
   "cell_type": "raw",
   "id": "412bb6f8-cdf1-4904-8011-bf901737690f",
   "metadata": {},
   "source": [
    "Time Complexity: O(N*log(N))\n",
    "Space Complexity: O(n)"
   ]
  },
  {
   "cell_type": "markdown",
   "id": "0cd2d379-60e0-4f0e-9af8-7255bbdf0c16",
   "metadata": {},
   "source": [
    "### Recursive "
   ]
  },
  {
   "cell_type": "code",
   "execution_count": 6,
   "id": "4b7693fe-d848-47d2-9b33-54dd4fc83f46",
   "metadata": {},
   "outputs": [
    {
     "name": "stdout",
     "output_type": "stream",
     "text": [
      "The largest element in the array is: 5\n"
     ]
    }
   ],
   "source": [
    "def findLargestElement(arr, n):\n",
    "    \n",
    "    max = arr[0]\n",
    "    for i in range(0, n):\n",
    "        if (max < arr[i]):\n",
    "            max = arr[i]\n",
    "    return max\n",
    "\n",
    "arr = [2, 5, 1, 3, 0]\n",
    "n = 5\n",
    "print(\"The largest element in the array is:\", findLargestElement(arr, n))   "
   ]
  },
  {
   "cell_type": "raw",
   "id": "7a5f3b6d-b4b2-4546-a0b3-a14b07f7df69",
   "metadata": {},
   "source": [
    "Time Complexity: O(N)\n",
    "Space Complexity: O(1)"
   ]
  }
 ],
 "metadata": {
  "kernelspec": {
   "display_name": "Python 3 (ipykernel)",
   "language": "python",
   "name": "python3"
  },
  "language_info": {
   "codemirror_mode": {
    "name": "ipython",
    "version": 3
   },
   "file_extension": ".py",
   "mimetype": "text/x-python",
   "name": "python",
   "nbconvert_exporter": "python",
   "pygments_lexer": "ipython3",
   "version": "3.13.5"
  }
 },
 "nbformat": 4,
 "nbformat_minor": 5
}
